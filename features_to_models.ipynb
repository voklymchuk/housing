{
 "cells": [
  {
   "cell_type": "code",
   "execution_count": 1,
   "metadata": {},
   "outputs": [],
   "source": [
    "#!pip install hyperopt datawig lightgbm pyod xgboost mxnet mlxtend category-encoders"
   ]
  },
  {
   "cell_type": "markdown",
   "metadata": {},
   "source": [
    "### Download the Data"
   ]
  },
  {
   "cell_type": "code",
   "execution_count": 2,
   "metadata": {},
   "outputs": [],
   "source": [
    "import os\n",
    "import pandas as pd\n",
    "import requests\n",
    "\n",
    "# dataset is located in current directory\n",
    "HOUSING_PATH = os.getcwd()\n",
    "\n",
    "# function to load training dataset\n",
    "\n",
    "\n",
    "def load_housing_data(filename=\"train.csv\"):\n",
    "    import numpy as np\n",
    "    csv_path = os.path.join(HOUSING_PATH, filename)\n",
    "    df = pd.read_csv(csv_path, dtype={'GarageYrBlt': np.float32, 'YearBuilt': np.float32, 'YrSold': np.float32, 'YearRemodAdd': np.float32,\n",
    "                                      'LotFrontage': np.float32})\n",
    "\n",
    "    return df"
   ]
  },
  {
   "cell_type": "code",
   "execution_count": 3,
   "metadata": {},
   "outputs": [],
   "source": [
    "# Read files\n",
    "X = load_housing_data('train_features.csv')\n",
    "X_test = load_housing_data('test_features.csv')\n",
    "\n",
    "# Save the 'Id' column\n",
    "#train_ID = train['Id']\n",
    "#test_ID = test['Id']\n",
    "\n",
    "# Now drop the  'Id' colum since it's unnecessary for  the prediction process.\n",
    "#train.drop(\"Id\", axis=1, inplace=True)\n",
    "#test.drop(\"Id\", axis=1, inplace=True)"
   ]
  },
  {
   "cell_type": "code",
   "execution_count": 4,
   "metadata": {},
   "outputs": [],
   "source": [
    "y=X['SalePrice'].values\n",
    "X.drop('SalePrice', axis = 1, inplace = True)"
   ]
  },
  {
   "cell_type": "code",
   "execution_count": 5,
   "metadata": {},
   "outputs": [
    {
     "name": "stdout",
     "output_type": "stream",
     "text": [
      "Skewness: 0.153930\n"
     ]
    },
    {
     "data": {
      "image/png": "[encoded data removed]",
      "text/plain": [
       "<Figure size 432x288 with 1 Axes>"
      ]
     },
     "metadata": {
      "needs_background": "light"
     },
     "output_type": "display_data"
    }
   ],
   "source": [
    "from matplotlib import pyplot as plt\n",
    "%matplotlib inline \n",
    "from scipy.stats import norm, skew\n",
    "\n",
    "import seaborn as sns\n",
    "import seaborn as sns\n",
    "# target feature transformed\n",
    "sns.distplot(y , fit=norm);\n",
    "(mu, sigma) = norm.fit(y)\n",
    "plt.legend(['Normal dist. ($\\mu=$ {:.2f} and $\\sigma=$ {:.2f} )'.format(mu, sigma)],loc='best')\n",
    "plt.title('Price (Log)');\n",
    "print(\"Skewness: %f\" % pd.DataFrame(y).skew())"
   ]
  },
  {
   "cell_type": "code",
   "execution_count": 6,
   "metadata": {},
   "outputs": [
    {
     "data": {
      "text/plain": [
       "False"
      ]
     },
     "execution_count": 6,
     "metadata": {},
     "output_type": "execute_result"
    }
   ],
   "source": [
    "import numpy as np\n",
    "np.isnan(y).any()"
   ]
  },
  {
   "cell_type": "markdown",
   "metadata": {},
   "source": [
    "## Select and Train a Model "
   ]
  },
  {
   "cell_type": "code",
   "execution_count": 7,
   "metadata": {},
   "outputs": [
    {
     "name": "stderr",
     "output_type": "stream",
     "text": [
      "Using plaidml.keras.backend backend.\n",
      "INFO:plaidml:Opening device \"metal_amd_radeon_pro_wx_9100.0\"\n"
     ]
    },
    {
     "name": "stdout",
     "output_type": "stream",
     "text": [
      "_________________________________________________________________\n",
      "Layer (type)                 Output Shape              Param #   \n",
      "=================================================================\n",
      "dense_1 (Dense)              (None, 6)                 1422      \n",
      "_________________________________________________________________\n",
      "dense_2 (Dense)              (None, 4)                 28        \n",
      "_________________________________________________________________\n",
      "dense_3 (Dense)              (None, 1)                 5         \n",
      "=================================================================\n",
      "Total params: 1,455\n",
      "Trainable params: 1,455\n",
      "Non-trainable params: 0\n",
      "_________________________________________________________________\n"
     ]
    }
   ],
   "source": [
    "\n",
    "from keras import backend as K\n",
    "from keras.losses import *\n",
    "import math\n",
    "\n",
    "# root mean squared error (rmse) for regression (only for Keras tensors)\n",
    "def rmse(y_true, y_pred):\n",
    "    from keras import backend\n",
    "    return backend.sqrt(backend.mean(backend.square(y_pred - y_true), axis=-1))\n",
    "\n",
    "# coefficient of determination (R^2) for regression  (only for Keras tensors)\n",
    "def r_square(y_true, y_pred):\n",
    "    from keras import backend as K\n",
    "    SS_res =  K.sum(K.square(y_true - y_pred)) \n",
    "    SS_tot = K.sum(K.square(y_true - K.mean(y_true))) \n",
    "    return abs( 1 - SS_res/(SS_tot + K.epsilon()) )\n",
    "\n",
    "\n",
    "from keras.losses import logcosh\n",
    "\n",
    "from keras import regularizers\n",
    "from keras.layers.core import Dropout\n",
    "from keras.models import Sequential\n",
    "from keras.layers import Activation, Dense\n",
    "\n",
    "def create_model(epochs=100, batch_size=32, dropout_rate=0.005, l=0.0001, lr=0.001, loss=mean_squared_error ):\n",
    "    NN_model = Sequential()\n",
    "    # The Input Layer :\n",
    "    NN_model.add(Dense(6, kernel_initializer='normal',input_dim = X.shape[1], activation='relu'))\n",
    "    # The Hidden Layers :\n",
    "    #NN_model.add(Dense(1, kernel_initializer='normal',activation='relu',kernel_regularizer=regularizers.l2(l)))\n",
    "    #NN_model.add(Dense(1, kernel_initializer='normal',activation='relu',kernel_regularizer=regularizers.l2(l)))\n",
    "    #NN_model.add(Dropout(rate =dropout_rate))\n",
    "    #NN_model.add(Dense(16, kernel_initializer='normal',activation='relu',kernel_regularizer=regularizers.l2(l)))\n",
    "    NN_model.add(Dense(4, kernel_initializer='normal',activation='relu',kernel_regularizer=regularizers.l2(l)))\n",
    "    # The Output Layer :\n",
    "    NN_model.add(Dense(1, kernel_initializer='normal',activation='linear'))\n",
    "\n",
    "    from keras import optimizers\n",
    "    adam = optimizers.Adam(lr=lr)\n",
    "    \n",
    "    # Compile the network :\n",
    "    NN_model.compile(loss=loss, optimizer=adam, metrics=['mse'])\n",
    "\n",
    "    #NN_model.summary()\n",
    "\n",
    "    return NN_model\n",
    "\n",
    "NN_model = create_model()\n",
    "NN_model.summary()\n",
    "\n",
    "from keras.wrappers.scikit_learn import KerasRegressor\n",
    "model = KerasRegressor(build_fn=create_model)\n",
    "\n"
   ]
  },
  {
   "cell_type": "code",
   "execution_count": null,
   "metadata": {},
   "outputs": [],
   "source": [
    "from sklearn.model_selection import GridSearchCV\n",
    "from sklearn.ensemble import RandomForestRegressor\n",
    "\n",
    "from joblib import Parallel, delayed, parallel_backend\n",
    "\n",
    "with parallel_backend('threading'):\n",
    "    param_grid = [\n",
    "        # try 12 (3×4) combinations of hyperparameters\n",
    "        #{'n_estimators': [30, 180, 220], 'max_features': [16, 32, 64, 128]},\n",
    "        # then try 6 (2×3) combinations with bootstrap set as False\n",
    "        {'epochs': [100, 50, 200], 'batch_size': [64, 32, 128], 'dropout_rate': [0.005, 0.01], 'l': [0.01, 0.0001, 0.05], 'lr': [0.001, 0.01, 0.003], \n",
    "        'loss': [hinge, mean_squared_error, mean_absolute_error, mean_absolute_percentage_error]},\n",
    "        ]\n",
    "\n",
    "    #forest_reg = RandomForestRegressor(random_state=42)\n",
    "    # train across 5 folds, that's a total of (12+6)*5=90 rounds of training \n",
    "    grid_search = GridSearchCV(model, param_grid, cv=3,\n",
    "                                   scoring='neg_root_mean_squared_error', return_train_score=True, n_jobs = 8)\n",
    "\n",
    "    grid_search.fit(X, y)\n",
    "\n"
   ]
  },
  {
   "cell_type": "code",
   "execution_count": null,
   "metadata": {},
   "outputs": [],
   "source": [
    "grid_search.best_params_ "
   ]
  },
  {
   "cell_type": "code",
   "execution_count": null,
   "metadata": {},
   "outputs": [],
   "source": [
    "\n",
    "housing_predictions = np.expm1((grid_search.best_estimator_.predict(X_test)))\n",
    "submission = pd.DataFrame(data=housing_predictions, index=housing_test.index , columns = [\"SalePrice\"])\n",
    "submission.to_csv(\"sixteenth.csv\")"
   ]
  },
  {
   "cell_type": "code",
   "execution_count": null,
   "metadata": {},
   "outputs": [],
   "source": []
  },
  {
   "cell_type": "code",
   "execution_count": null,
   "metadata": {},
   "outputs": [],
   "source": []
  },
  {
   "cell_type": "code",
   "execution_count": null,
   "metadata": {},
   "outputs": [],
   "source": []
  }
 ],
 "metadata": {
  "kernelspec": {
   "display_name": "Python 3",
   "language": "python",
   "name": "python3"
  },
  "language_info": {
   "codemirror_mode": {
    "name": "ipython",
    "version": 3
   },
   "file_extension": ".py",
   "mimetype": "text/x-python",
   "name": "python",
   "nbconvert_exporter": "python",
   "pygments_lexer": "ipython3",
   "version": "3.8.1"
  }
 },
 "nbformat": 4,
 "nbformat_minor": 4
}
